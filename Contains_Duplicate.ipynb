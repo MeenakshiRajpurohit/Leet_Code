{
  "nbformat": 4,
  "nbformat_minor": 0,
  "metadata": {
    "colab": {
      "provenance": [],
      "authorship_tag": "ABX9TyOgsuMUT2gD4OODqWeSULJA",
      "include_colab_link": true
    },
    "kernelspec": {
      "name": "python3",
      "display_name": "Python 3"
    },
    "language_info": {
      "name": "python"
    }
  },
  "cells": [
    {
      "cell_type": "markdown",
      "metadata": {
        "id": "view-in-github",
        "colab_type": "text"
      },
      "source": [
        "<a href=\"https://colab.research.google.com/github/MeenakshiRajpurohit/Leet_Code/blob/main/Contains_Duplicate.ipynb\" target=\"_parent\"><img src=\"https://colab.research.google.com/assets/colab-badge.svg\" alt=\"Open In Colab\"/></a>"
      ]
    },
    {
      "cell_type": "markdown",
      "source": [
        "Given an integer array nums, return true if any value appears more than once in the array, otherwise return false.\n",
        "\n",
        "Example 1:\n",
        "\n",
        "Input: nums = [1, 2, 3, 3]\n",
        "\n",
        "Output: true\n",
        "\n",
        "\n",
        "Example 2:\n",
        "\n",
        "Input: nums = [1, 2, 3, 4]\n",
        "\n",
        "Output: false\n"
      ],
      "metadata": {
        "id": "iOrwpD3jZYZI"
      }
    },
    {
      "cell_type": "code",
      "execution_count": 1,
      "metadata": {
        "colab": {
          "base_uri": "https://localhost:8080/"
        },
        "id": "ATCT62z6ZP5C",
        "outputId": "b1424379-b5c6-4523-e40a-7f81d9e9e07b"
      },
      "outputs": [
        {
          "output_type": "stream",
          "name": "stdout",
          "text": [
            "True\n"
          ]
        }
      ],
      "source": [
        "from typing import List\n",
        "\n",
        "class Solution:\n",
        "    def hasDuplicate(self, nums: List[int]) -> bool:\n",
        "        for i in range(len(nums)):\n",
        "            for j in range(i +1, len(nums)):\n",
        "                if nums[i] == nums[j]:\n",
        "                    return True\n",
        "        return False\n",
        "\n",
        "sol = Solution()\n",
        "x = sol.hasDuplicate([1,2,3,3])\n",
        "print(x)"
      ]
    },
    {
      "cell_type": "code",
      "source": [
        "class Solution:\n",
        "    def hasDuplicate(self, nums: List[int]) -> bool:\n",
        "        nums.sort()\n",
        "        for i in range(1, len(nums)):\n",
        "            if nums[i] == nums[i-1]:\n",
        "                return True\n",
        "        return False\n",
        "\n",
        "sol = Solution()\n",
        "y = sol.hasDuplicate([1,2,3,3])\n",
        "print(y)"
      ],
      "metadata": {
        "colab": {
          "base_uri": "https://localhost:8080/"
        },
        "id": "sNjtRTkTbvg_",
        "outputId": "b62efa74-6c90-472a-cf4c-bc42b2502cc2"
      },
      "execution_count": 2,
      "outputs": [
        {
          "output_type": "stream",
          "name": "stdout",
          "text": [
            "True\n"
          ]
        }
      ]
    },
    {
      "cell_type": "code",
      "source": [
        "from typing import List\n",
        "\n",
        "class Solution:\n",
        "    def hasDuplicate(self, nums: List[int]) -> bool:\n",
        "        seen = set()\n",
        "        for num in nums:\n",
        "            if num in seen:\n",
        "                return True\n",
        "            seen.add(num)\n",
        "        return False\n",
        "\n",
        "sol = Solution()\n",
        "k = sol.hasDuplicate([1,2,3,3])\n",
        "print(k)"
      ],
      "metadata": {
        "colab": {
          "base_uri": "https://localhost:8080/"
        },
        "id": "bCMvvm-3b7iR",
        "outputId": "b5cbb0d9-1c8b-444b-bffd-1f2c1243b890"
      },
      "execution_count": 2,
      "outputs": [
        {
          "output_type": "stream",
          "name": "stdout",
          "text": [
            "True\n"
          ]
        }
      ]
    }
  ]
}